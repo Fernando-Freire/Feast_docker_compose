{
 "cells": [
  {
   "cell_type": "markdown",
   "id": "49d49d01",
   "metadata": {},
   "source": [
    "# FEAST  Feature Store Basic Tutorial"
   ]
  },
  {
   "cell_type": "markdown",
   "id": "b19e2ac8",
   "metadata": {},
   "source": [
    "### Importing lib and conecting to FEAST"
   ]
  },
  {
   "cell_type": "code",
   "execution_count": 1,
   "id": "ecdc615d",
   "metadata": {},
   "outputs": [
    {
     "name": "stdout",
     "output_type": "stream",
     "text": [
      "Feast is an open source project that collects anonymized error reporting and usage statistics. To opt out or learn more see https://docs.feast.dev/reference/usage\n",
      "Feast SDK Version: \"feast 0.24.1\"\n"
     ]
    }
   ],
   "source": [
    "import feast\n",
    "import pandas as pd\n",
    "import datetime\n",
    "!feast version"
   ]
  },
  {
   "cell_type": "markdown",
   "id": "617c87c5",
   "metadata": {},
   "source": [
    "### Creating the Repo Config"
   ]
  },
  {
   "cell_type": "code",
   "execution_count": 2,
   "id": "ff3ff686",
   "metadata": {},
   "outputs": [
    {
     "name": "stderr",
     "output_type": "stream",
     "text": [
      "/usr/local/lib/python3.10/site-packages/feast/repo_config.py:207: RuntimeWarning: `entity_key_serialization_version` is either not specified in the feature_store.yaml, or is specified to a value <= 1.This serialization version may cause errors when trying to write fields with the `Long` data type into the online store. Specifying `entity_key_serialization_version` to 2 is recommended for new projects. \n",
      "  warnings.warn(\n"
     ]
    }
   ],
   "source": [
    "repo_config = feast.RepoConfig(\n",
    "     registry= feast.repo_config.RegistryConfig(path=\"s3://feast/registry.pb\"),\n",
    "     project=\"ELO7_feature_store\",\n",
    "     provider=\"local\",\n",
    "     offline_store=\"file\",  # Could also be the OfflineStoreConfig e.g. FileOfflineStoreConfig\n",
    "     online_store=\"redis:6379\",  # Could also be the OnlineStoreConfig e.g. RedisOnlineStoreConfig\n",
    "     feast_s3_endpoint_url=\"http://minio:9000\",\n",
    ")"
   ]
  },
  {
   "cell_type": "markdown",
   "id": "aac0e482",
   "metadata": {},
   "source": [
    "### Instatiating a Feast instance"
   ]
  },
  {
   "cell_type": "code",
   "execution_count": 3,
   "id": "e9876806",
   "metadata": {},
   "outputs": [],
   "source": [
    "store = feast.FeatureStore(config=repo_config)"
   ]
  },
  {
   "cell_type": "markdown",
   "id": "2deaecfb",
   "metadata": {},
   "source": [
    "### Retrieving Offline Features"
   ]
  },
  {
   "cell_type": "code",
   "execution_count": 6,
   "id": "691ff4b9",
   "metadata": {
    "scrolled": true
   },
   "outputs": [
    {
     "ename": "TypeError",
     "evalue": "type of the return value must be str; got NoneType instead",
     "output_type": "error",
     "traceback": [
      "\u001b[0;31m---------------------------------------------------------------------------\u001b[0m",
      "\u001b[0;31mTypeError\u001b[0m                                 Traceback (most recent call last)",
      "Cell \u001b[0;32mIn [6], line 2\u001b[0m\n\u001b[1;32m      1\u001b[0m feature_service \u001b[38;5;241m=\u001b[39m store\u001b[38;5;241m.\u001b[39mget_feature_service(\u001b[38;5;124m\"\u001b[39m\u001b[38;5;124msample_products_activity\u001b[39m\u001b[38;5;124m\"\u001b[39m)\n\u001b[0;32m----> 2\u001b[0m \u001b[38;5;28mprint\u001b[39m(\u001b[43mstore\u001b[49m\u001b[38;5;241;43m.\u001b[39;49m\u001b[43mget_data_source\u001b[49m\u001b[43m(\u001b[49m\u001b[38;5;124;43m\"\u001b[39;49m\u001b[38;5;124;43msample_products\u001b[39;49m\u001b[38;5;124;43m\"\u001b[39;49m\u001b[43m)\u001b[49m\u001b[38;5;241;43m.\u001b[39;49m\u001b[43mget_table_query_string\u001b[49m\u001b[43m(\u001b[49m\u001b[43m)\u001b[49m)\n\u001b[1;32m      3\u001b[0m features \u001b[38;5;241m=\u001b[39m [\u001b[38;5;124m\"\u001b[39m\u001b[38;5;124mproduct_id\u001b[39m\u001b[38;5;124m\"\u001b[39m,\u001b[38;5;124m\"\u001b[39m\u001b[38;5;124mseller_id\u001b[39m\u001b[38;5;124m\"\u001b[39m,\u001b[38;5;124m\"\u001b[39m\u001b[38;5;124mquery\u001b[39m\u001b[38;5;124m\"\u001b[39m,\u001b[38;5;124m\"\u001b[39m\u001b[38;5;124msearch_page\u001b[39m\u001b[38;5;124m\"\u001b[39m,\u001b[38;5;124m\"\u001b[39m\u001b[38;5;124mposition\u001b[39m\u001b[38;5;124m\"\u001b[39m,\u001b[38;5;124m\"\u001b[39m\u001b[38;5;124mtitle\u001b[39m\u001b[38;5;124m\"\u001b[39m,\u001b[38;5;124m\"\u001b[39m\u001b[38;5;124mconcatenated_tags\u001b[39m\u001b[38;5;124m\"\u001b[39m,\u001b[38;5;124m\"\u001b[39m\u001b[38;5;124mprice\u001b[39m\u001b[38;5;124m\"\u001b[39m,\u001b[38;5;124m\"\u001b[39m\u001b[38;5;124mweight\u001b[39m\u001b[38;5;124m\"\u001b[39m,\u001b[38;5;124m\"\u001b[39m\u001b[38;5;124mexpress_delivery\u001b[39m\u001b[38;5;124m\"\u001b[39m,\u001b[38;5;124m\"\u001b[39m\u001b[38;5;124mminimum_quantity\u001b[39m\u001b[38;5;124m\"\u001b[39m,\u001b[38;5;124m\"\u001b[39m\u001b[38;5;124mview_counts\u001b[39m\u001b[38;5;124m\"\u001b[39m,\u001b[38;5;124m\"\u001b[39m\u001b[38;5;124morder_counts\u001b[39m\u001b[38;5;124m\"\u001b[39m,\u001b[38;5;124m\"\u001b[39m\u001b[38;5;124mcategory\u001b[39m\u001b[38;5;124m\"\u001b[39m]\n\u001b[1;32m      4\u001b[0m \u001b[38;5;66;03m#entity_df = pd.DataFrame.from_dict(\u001b[39;00m\n\u001b[1;32m      5\u001b[0m \u001b[38;5;66;03m#    {\u001b[39;00m\n\u001b[1;32m      6\u001b[0m \u001b[38;5;66;03m#        \"product_id\": [11394449, 15534262],\u001b[39;00m\n\u001b[0;32m   (...)\u001b[0m\n\u001b[1;32m     11\u001b[0m \u001b[38;5;66;03m#    }\u001b[39;00m\n\u001b[1;32m     12\u001b[0m \u001b[38;5;66;03m#)\u001b[39;00m\n",
      "File \u001b[0;32m/usr/local/lib/python3.10/site-packages/typeguard/__init__.py:1037\u001b[0m, in \u001b[0;36mtypechecked.<locals>.wrapper\u001b[0;34m(*args, **kwargs)\u001b[0m\n\u001b[1;32m   1035\u001b[0m     check_return_type(retval, memo)\n\u001b[1;32m   1036\u001b[0m \u001b[38;5;28;01mexcept\u001b[39;00m \u001b[38;5;167;01mTypeError\u001b[39;00m \u001b[38;5;28;01mas\u001b[39;00m exc:\n\u001b[0;32m-> 1037\u001b[0m     \u001b[38;5;28;01mraise\u001b[39;00m \u001b[38;5;167;01mTypeError\u001b[39;00m(\u001b[38;5;241m*\u001b[39mexc\u001b[38;5;241m.\u001b[39margs) \u001b[38;5;28;01mfrom\u001b[39;00m \u001b[38;5;28mNone\u001b[39m\n\u001b[1;32m   1039\u001b[0m \u001b[38;5;66;03m# If a generator is returned, wrap it if its yield/send/return types can be checked\u001b[39;00m\n\u001b[1;32m   1040\u001b[0m \u001b[38;5;28;01mif\u001b[39;00m inspect\u001b[38;5;241m.\u001b[39misgenerator(retval) \u001b[38;5;129;01mor\u001b[39;00m isasyncgen(retval):\n",
      "\u001b[0;31mTypeError\u001b[0m: type of the return value must be str; got NoneType instead"
     ]
    }
   ],
   "source": [
    "feature_service = store.get_feature_service(\"sample_products_activity\")\n",
    "print(store.get_data_source(\"sample_products\").get_table_query_string())\n",
    "features = [\"product_id\",\"seller_id\",\"query\",\"search_page\",\"position\",\"title\",\"concatenated_tags\",\"price\",\"weight\",\"express_delivery\",\"minimum_quantity\",\"view_counts\",\"order_counts\",\"category\"]\n",
    "#entity_df = pd.DataFrame.from_dict(\n",
    "#    {\n",
    "#        \"product_id\": [11394449, 15534262],\n",
    "#        \"event_timestamp\": [\n",
    "#            datetime(2015, 11, 14, 19, 42, 12),\n",
    "#            datetime(2018, 4, 4, 20, 55, 7)\n",
    "#        ]\n",
    "#    }\n",
    "#)\n",
    "entity_sql = f\"\"\"\n",
    "    SELECT {features}\n",
    "    FROM {store.get_data_source(\"sample_products\").get_table_query_string()}\n",
    "    WHERE creation_date BETWEEN '2015-01-01' and '2021-12-31'\n",
    "\"\"\"\n",
    "\n",
    "offline_features = store.get_historical_features(features=feature_service,entity_df=entity_sql)\n",
    "offline_features.to_df()"
   ]
  },
  {
   "cell_type": "markdown",
   "id": "15d74567",
   "metadata": {},
   "source": [
    "### Retrieving Online Features via SDK"
   ]
  },
  {
   "cell_type": "code",
   "execution_count": null,
   "id": "13d2f3ee",
   "metadata": {},
   "outputs": [],
   "source": [
    "feature_service = store.get_feature_service(\"sample_products_activity\")\n",
    "online_features = store.get_online_features(features=feature_service)\n",
    "online_features.head()"
   ]
  },
  {
   "cell_type": "markdown",
   "id": "71fb87f3",
   "metadata": {},
   "source": []
  }
 ],
 "metadata": {
  "kernelspec": {
   "display_name": "Python 3 (ipykernel)",
   "language": "python",
   "name": "python3"
  },
  "language_info": {
   "codemirror_mode": {
    "name": "ipython",
    "version": 3
   },
   "file_extension": ".py",
   "mimetype": "text/x-python",
   "name": "python",
   "nbconvert_exporter": "python",
   "pygments_lexer": "ipython3",
   "version": "3.10.4"
  },
  "vscode": {
   "interpreter": {
    "hash": "767d51c1340bd893661ea55ea3124f6de3c7a262a8b4abca0554b478b1e2ff90"
   }
  }
 },
 "nbformat": 4,
 "nbformat_minor": 5
}
