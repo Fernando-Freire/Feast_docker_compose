{
 "cells": [
  {
   "cell_type": "markdown",
   "id": "49d49d01",
   "metadata": {},
   "source": [
    "# FEAST  Feature Store Basic Tutorial"
   ]
  },
  {
   "cell_type": "markdown",
   "id": "b19e2ac8",
   "metadata": {},
   "source": [
    "### Importing lib and conecting to FEAST"
   ]
  },
  {
   "cell_type": "code",
   "execution_count": 19,
   "id": "ecdc615d",
   "metadata": {},
   "outputs": [
    {
     "name": "stdout",
     "output_type": "stream",
     "text": [
      "Feast SDK Version: \"feast 0.24.1\"\r\n"
     ]
    }
   ],
   "source": [
    "import feast\n",
    "import pandas as pd\n",
    "from datetime import datetime\n",
    "!feast version"
   ]
  },
  {
   "cell_type": "markdown",
   "id": "617c87c5",
   "metadata": {},
   "source": [
    "### Creating the Repo Config"
   ]
  },
  {
   "cell_type": "code",
   "execution_count": 2,
   "id": "ff3ff686",
   "metadata": {},
   "outputs": [
    {
     "name": "stderr",
     "output_type": "stream",
     "text": [
      "/usr/local/lib/python3.10/site-packages/feast/repo_config.py:207: RuntimeWarning: `entity_key_serialization_version` is either not specified in the feature_store.yaml, or is specified to a value <= 1.This serialization version may cause errors when trying to write fields with the `Long` data type into the online store. Specifying `entity_key_serialization_version` to 2 is recommended for new projects. \n",
      "  warnings.warn(\n"
     ]
    }
   ],
   "source": [
    "repo_config = feast.RepoConfig(\n",
    "     registry= feast.repo_config.RegistryConfig(path=\"s3://feast/registry.pb\"),\n",
    "     project=\"ELO7_feature_store\",\n",
    "     provider=\"local\",\n",
    "     offline_store=\"file\",  # Could also be the OfflineStoreConfig e.g. FileOfflineStoreConfig\n",
    "     online_store=\"redis:6379\",  # Could also be the OnlineStoreConfig e.g. RedisOnlineStoreConfig\n",
    "     feast_s3_endpoint_url=\"http://minio:9000\",\n",
    ")"
   ]
  },
  {
   "cell_type": "markdown",
   "id": "aac0e482",
   "metadata": {},
   "source": [
    "### Instatiating a Feast instance"
   ]
  },
  {
   "cell_type": "code",
   "execution_count": 3,
   "id": "e9876806",
   "metadata": {},
   "outputs": [],
   "source": [
    "store = feast.FeatureStore(config=repo_config)"
   ]
  },
  {
   "cell_type": "markdown",
   "id": "2deaecfb",
   "metadata": {},
   "source": [
    "### Retrieving Offline Features"
   ]
  },
  {
   "cell_type": "code",
   "execution_count": 4,
   "id": "691ff4b9",
   "metadata": {
    "scrolled": true
   },
   "outputs": [],
   "source": [
    "feature_service = store.get_feature_service(\"sample_products_activity\")"
   ]
  },
  {
   "cell_type": "code",
   "execution_count": 12,
   "id": "59588a60",
   "metadata": {},
   "outputs": [],
   "source": [
    "file = pd.read_parquet(\"sample_products.parquet\")"
   ]
  },
  {
   "cell_type": "code",
   "execution_count": 13,
   "id": "c4570008",
   "metadata": {},
   "outputs": [
    {
     "data": {
      "text/html": [
       "<div>\n",
       "<style scoped>\n",
       "    .dataframe tbody tr th:only-of-type {\n",
       "        vertical-align: middle;\n",
       "    }\n",
       "\n",
       "    .dataframe tbody tr th {\n",
       "        vertical-align: top;\n",
       "    }\n",
       "\n",
       "    .dataframe thead th {\n",
       "        text-align: right;\n",
       "    }\n",
       "</style>\n",
       "<table border=\"1\" class=\"dataframe\">\n",
       "  <thead>\n",
       "    <tr style=\"text-align: right;\">\n",
       "      <th></th>\n",
       "      <th>product_id</th>\n",
       "      <th>seller_id</th>\n",
       "      <th>query</th>\n",
       "      <th>search_page</th>\n",
       "      <th>position</th>\n",
       "      <th>title</th>\n",
       "      <th>concatenated_tags</th>\n",
       "      <th>creation_date</th>\n",
       "      <th>price</th>\n",
       "      <th>weight</th>\n",
       "      <th>express_delivery</th>\n",
       "      <th>minimum_quantity</th>\n",
       "      <th>view_counts</th>\n",
       "      <th>order_counts</th>\n",
       "      <th>category</th>\n",
       "    </tr>\n",
       "  </thead>\n",
       "  <tbody>\n",
       "    <tr>\n",
       "      <th>0</th>\n",
       "      <td>11394449</td>\n",
       "      <td>8324141</td>\n",
       "      <td>espirito santo</td>\n",
       "      <td>2</td>\n",
       "      <td>6</td>\n",
       "      <td>Mandala Espírito Santo</td>\n",
       "      <td>mandala mdf</td>\n",
       "      <td>2015-11-14 19:42:12</td>\n",
       "      <td>171.890000</td>\n",
       "      <td>1200.0</td>\n",
       "      <td>1</td>\n",
       "      <td>4</td>\n",
       "      <td>244</td>\n",
       "      <td>NaN</td>\n",
       "      <td>Decoração</td>\n",
       "    </tr>\n",
       "    <tr>\n",
       "      <th>1</th>\n",
       "      <td>15534262</td>\n",
       "      <td>6939286</td>\n",
       "      <td>cartao de visita</td>\n",
       "      <td>2</td>\n",
       "      <td>0</td>\n",
       "      <td>Cartão de Visita</td>\n",
       "      <td>cartao visita panfletos tag adesivos copos lon...</td>\n",
       "      <td>2018-04-04 20:55:07</td>\n",
       "      <td>77.670000</td>\n",
       "      <td>8.0</td>\n",
       "      <td>1</td>\n",
       "      <td>5</td>\n",
       "      <td>124</td>\n",
       "      <td>NaN</td>\n",
       "      <td>Papel e Cia</td>\n",
       "    </tr>\n",
       "    <tr>\n",
       "      <th>2</th>\n",
       "      <td>16153119</td>\n",
       "      <td>9835835</td>\n",
       "      <td>expositor de esmaltes</td>\n",
       "      <td>1</td>\n",
       "      <td>38</td>\n",
       "      <td>Organizador expositor p/ 70 esmaltes</td>\n",
       "      <td>expositor</td>\n",
       "      <td>2018-10-13 20:57:07</td>\n",
       "      <td>73.920006</td>\n",
       "      <td>2709.0</td>\n",
       "      <td>1</td>\n",
       "      <td>1</td>\n",
       "      <td>59</td>\n",
       "      <td>NaN</td>\n",
       "      <td>Outros</td>\n",
       "    </tr>\n",
       "    <tr>\n",
       "      <th>3</th>\n",
       "      <td>15877252</td>\n",
       "      <td>8071206</td>\n",
       "      <td>medidas lencol para berco americano</td>\n",
       "      <td>1</td>\n",
       "      <td>6</td>\n",
       "      <td>Jogo de Lençol Berço Estampado</td>\n",
       "      <td>t jogo lencol menino lencol berco</td>\n",
       "      <td>2017-02-27 13:26:03</td>\n",
       "      <td>118.770004</td>\n",
       "      <td>0.0</td>\n",
       "      <td>1</td>\n",
       "      <td>1</td>\n",
       "      <td>180</td>\n",
       "      <td>1.0</td>\n",
       "      <td>Bebê</td>\n",
       "    </tr>\n",
       "    <tr>\n",
       "      <th>4</th>\n",
       "      <td>15917108</td>\n",
       "      <td>7200773</td>\n",
       "      <td>adesivo box banheiro</td>\n",
       "      <td>3</td>\n",
       "      <td>38</td>\n",
       "      <td>ADESIVO BOX DE BANHEIRO</td>\n",
       "      <td>adesivo box banheiro</td>\n",
       "      <td>2017-05-09 13:18:38</td>\n",
       "      <td>191.810000</td>\n",
       "      <td>507.0</td>\n",
       "      <td>1</td>\n",
       "      <td>6</td>\n",
       "      <td>34</td>\n",
       "      <td>NaN</td>\n",
       "      <td>Decoração</td>\n",
       "    </tr>\n",
       "  </tbody>\n",
       "</table>\n",
       "</div>"
      ],
      "text/plain": [
       "   product_id  seller_id                                query  search_page  \\\n",
       "0    11394449    8324141                       espirito santo            2   \n",
       "1    15534262    6939286                     cartao de visita            2   \n",
       "2    16153119    9835835                expositor de esmaltes            1   \n",
       "3    15877252    8071206  medidas lencol para berco americano            1   \n",
       "4    15917108    7200773                 adesivo box banheiro            3   \n",
       "\n",
       "   position                                 title  \\\n",
       "0         6                Mandala Espírito Santo   \n",
       "1         0                      Cartão de Visita   \n",
       "2        38  Organizador expositor p/ 70 esmaltes   \n",
       "3         6        Jogo de Lençol Berço Estampado   \n",
       "4        38               ADESIVO BOX DE BANHEIRO   \n",
       "\n",
       "                                   concatenated_tags        creation_date  \\\n",
       "0                                        mandala mdf  2015-11-14 19:42:12   \n",
       "1  cartao visita panfletos tag adesivos copos lon...  2018-04-04 20:55:07   \n",
       "2                                          expositor  2018-10-13 20:57:07   \n",
       "3                  t jogo lencol menino lencol berco  2017-02-27 13:26:03   \n",
       "4                               adesivo box banheiro  2017-05-09 13:18:38   \n",
       "\n",
       "        price  weight  express_delivery  minimum_quantity  view_counts  \\\n",
       "0  171.890000  1200.0                 1                 4          244   \n",
       "1   77.670000     8.0                 1                 5          124   \n",
       "2   73.920006  2709.0                 1                 1           59   \n",
       "3  118.770004     0.0                 1                 1          180   \n",
       "4  191.810000   507.0                 1                 6           34   \n",
       "\n",
       "   order_counts     category  \n",
       "0           NaN    Decoração  \n",
       "1           NaN  Papel e Cia  \n",
       "2           NaN       Outros  \n",
       "3           1.0         Bebê  \n",
       "4           NaN    Decoração  "
      ]
     },
     "execution_count": 13,
     "metadata": {},
     "output_type": "execute_result"
    }
   ],
   "source": [
    "file.head()"
   ]
  },
  {
   "cell_type": "code",
   "execution_count": 21,
   "id": "63f9b34c",
   "metadata": {},
   "outputs": [
    {
     "ename": "NotImplementedError",
     "evalue": "dd.DataFrame.apply only supports axis=1\n  Try: df.apply(func, axis=1)",
     "output_type": "error",
     "traceback": [
      "\u001b[0;31m---------------------------------------------------------------------------\u001b[0m",
      "\u001b[0;31mNotImplementedError\u001b[0m                       Traceback (most recent call last)",
      "Cell \u001b[0;32mIn [21], line 12\u001b[0m\n\u001b[1;32m      2\u001b[0m entity_df \u001b[38;5;241m=\u001b[39m pd\u001b[38;5;241m.\u001b[39mDataFrame\u001b[38;5;241m.\u001b[39mfrom_dict(\n\u001b[1;32m      3\u001b[0m     {\n\u001b[1;32m      4\u001b[0m         \u001b[38;5;124m\"\u001b[39m\u001b[38;5;124mproduct_id\u001b[39m\u001b[38;5;124m\"\u001b[39m: [\u001b[38;5;241m11394449\u001b[39m, \u001b[38;5;241m15534262\u001b[39m],\n\u001b[0;32m   (...)\u001b[0m\n\u001b[1;32m      9\u001b[0m     }\n\u001b[1;32m     10\u001b[0m )\n\u001b[1;32m     11\u001b[0m offline_features \u001b[38;5;241m=\u001b[39m store\u001b[38;5;241m.\u001b[39mget_historical_features(features\u001b[38;5;241m=\u001b[39mfeature_service,entity_df\u001b[38;5;241m=\u001b[39mentity_df)\n\u001b[0;32m---> 12\u001b[0m \u001b[43moffline_features\u001b[49m\u001b[38;5;241;43m.\u001b[39;49m\u001b[43mto_df\u001b[49m\u001b[43m(\u001b[49m\u001b[43m)\u001b[49m\n",
      "File \u001b[0;32m/usr/local/lib/python3.10/site-packages/feast/infra/offline_stores/offline_store.py:76\u001b[0m, in \u001b[0;36mRetrievalJob.to_df\u001b[0;34m(self, validation_reference)\u001b[0m\n\u001b[1;32m     64\u001b[0m \u001b[38;5;28;01mdef\u001b[39;00m \u001b[38;5;21mto_df\u001b[39m(\n\u001b[1;32m     65\u001b[0m     \u001b[38;5;28mself\u001b[39m, validation_reference: Optional[\u001b[38;5;124m\"\u001b[39m\u001b[38;5;124mValidationReference\u001b[39m\u001b[38;5;124m\"\u001b[39m] \u001b[38;5;241m=\u001b[39m \u001b[38;5;28;01mNone\u001b[39;00m\n\u001b[1;32m     66\u001b[0m ) \u001b[38;5;241m-\u001b[39m\u001b[38;5;241m>\u001b[39m pd\u001b[38;5;241m.\u001b[39mDataFrame:\n\u001b[1;32m     67\u001b[0m     \u001b[38;5;124;03m\"\"\"\u001b[39;00m\n\u001b[1;32m     68\u001b[0m \u001b[38;5;124;03m    Synchronously executes the underlying query and returns the result as a pandas dataframe.\u001b[39;00m\n\u001b[1;32m     69\u001b[0m \n\u001b[0;32m   (...)\u001b[0m\n\u001b[1;32m     74\u001b[0m \u001b[38;5;124;03m        validation_reference (optional): The validation to apply against the retrieved dataframe.\u001b[39;00m\n\u001b[1;32m     75\u001b[0m \u001b[38;5;124;03m    \"\"\"\u001b[39;00m\n\u001b[0;32m---> 76\u001b[0m     features_df \u001b[38;5;241m=\u001b[39m \u001b[38;5;28;43mself\u001b[39;49m\u001b[38;5;241;43m.\u001b[39;49m\u001b[43m_to_df_internal\u001b[49m\u001b[43m(\u001b[49m\u001b[43m)\u001b[49m\n\u001b[1;32m     78\u001b[0m     \u001b[38;5;28;01mif\u001b[39;00m \u001b[38;5;28mself\u001b[39m\u001b[38;5;241m.\u001b[39mon_demand_feature_views:\n\u001b[1;32m     79\u001b[0m         \u001b[38;5;66;03m# TODO(adchia): Fix requirement to specify dependent feature views in feature_refs\u001b[39;00m\n\u001b[1;32m     80\u001b[0m         \u001b[38;5;28;01mfor\u001b[39;00m odfv \u001b[38;5;129;01min\u001b[39;00m \u001b[38;5;28mself\u001b[39m\u001b[38;5;241m.\u001b[39mon_demand_feature_views:\n",
      "File \u001b[0;32m/usr/local/lib/python3.10/site-packages/feast/usage.py:294\u001b[0m, in \u001b[0;36mlog_exceptions_and_usage.<locals>.decorator.<locals>.wrapper\u001b[0;34m(*args, **kwargs)\u001b[0m\n\u001b[1;32m    291\u001b[0m     ctx\u001b[38;5;241m.\u001b[39mtraceback \u001b[38;5;241m=\u001b[39m _trace_to_log(traceback)\n\u001b[1;32m    293\u001b[0m     \u001b[38;5;28;01mif\u001b[39;00m traceback:\n\u001b[0;32m--> 294\u001b[0m         \u001b[38;5;28;01mraise\u001b[39;00m exc\u001b[38;5;241m.\u001b[39mwith_traceback(traceback)\n\u001b[1;32m    296\u001b[0m     \u001b[38;5;28;01mraise\u001b[39;00m exc\n\u001b[1;32m    297\u001b[0m \u001b[38;5;28;01mfinally\u001b[39;00m:\n",
      "File \u001b[0;32m/usr/local/lib/python3.10/site-packages/feast/usage.py:283\u001b[0m, in \u001b[0;36mlog_exceptions_and_usage.<locals>.decorator.<locals>.wrapper\u001b[0;34m(*args, **kwargs)\u001b[0m\n\u001b[1;32m    280\u001b[0m ctx\u001b[38;5;241m.\u001b[39mattributes\u001b[38;5;241m.\u001b[39mupdate(attrs)\n\u001b[1;32m    282\u001b[0m \u001b[38;5;28;01mtry\u001b[39;00m:\n\u001b[0;32m--> 283\u001b[0m     \u001b[38;5;28;01mreturn\u001b[39;00m \u001b[43mfunc\u001b[49m\u001b[43m(\u001b[49m\u001b[38;5;241;43m*\u001b[39;49m\u001b[43margs\u001b[49m\u001b[43m,\u001b[49m\u001b[43m \u001b[49m\u001b[38;5;241;43m*\u001b[39;49m\u001b[38;5;241;43m*\u001b[39;49m\u001b[43mkwargs\u001b[49m\u001b[43m)\u001b[49m\n\u001b[1;32m    284\u001b[0m \u001b[38;5;28;01mexcept\u001b[39;00m \u001b[38;5;167;01mException\u001b[39;00m:\n\u001b[1;32m    285\u001b[0m     \u001b[38;5;28;01mif\u001b[39;00m ctx\u001b[38;5;241m.\u001b[39mexception:\n\u001b[1;32m    286\u001b[0m         \u001b[38;5;66;03m# exception was already recorded\u001b[39;00m\n",
      "File \u001b[0;32m/usr/local/lib/python3.10/site-packages/feast/infra/offline_stores/file.py:81\u001b[0m, in \u001b[0;36mFileRetrievalJob._to_df_internal\u001b[0;34m(self)\u001b[0m\n\u001b[1;32m     78\u001b[0m \u001b[38;5;129m@log_exceptions_and_usage\u001b[39m\n\u001b[1;32m     79\u001b[0m \u001b[38;5;28;01mdef\u001b[39;00m \u001b[38;5;21m_to_df_internal\u001b[39m(\u001b[38;5;28mself\u001b[39m) \u001b[38;5;241m-\u001b[39m\u001b[38;5;241m>\u001b[39m pd\u001b[38;5;241m.\u001b[39mDataFrame:\n\u001b[1;32m     80\u001b[0m     \u001b[38;5;66;03m# Only execute the evaluation function to build the final historical retrieval dataframe at the last moment.\u001b[39;00m\n\u001b[0;32m---> 81\u001b[0m     df \u001b[38;5;241m=\u001b[39m \u001b[38;5;28;43mself\u001b[39;49m\u001b[38;5;241;43m.\u001b[39;49m\u001b[43mevaluation_function\u001b[49m\u001b[43m(\u001b[49m\u001b[43m)\u001b[49m\u001b[38;5;241m.\u001b[39mcompute()\n\u001b[1;32m     82\u001b[0m     df \u001b[38;5;241m=\u001b[39m df\u001b[38;5;241m.\u001b[39mreset_index(drop\u001b[38;5;241m=\u001b[39m\u001b[38;5;28;01mTrue\u001b[39;00m)\n\u001b[1;32m     83\u001b[0m     \u001b[38;5;28;01mreturn\u001b[39;00m df\n",
      "File \u001b[0;32m/usr/local/lib/python3.10/site-packages/feast/infra/offline_stores/file.py:250\u001b[0m, in \u001b[0;36mFileOfflineStore.get_historical_features.<locals>.evaluate_historical_retrieval\u001b[0;34m()\u001b[0m\n\u001b[1;32m    238\u001b[0m df_to_join, timestamp_field \u001b[38;5;241m=\u001b[39m _field_mapping(\n\u001b[1;32m    239\u001b[0m     df_to_join,\n\u001b[1;32m    240\u001b[0m     feature_view,\n\u001b[0;32m   (...)\u001b[0m\n\u001b[1;32m    245\u001b[0m     full_feature_names,\n\u001b[1;32m    246\u001b[0m )\n\u001b[1;32m    248\u001b[0m df_to_join \u001b[38;5;241m=\u001b[39m _merge(entity_df_with_features, df_to_join, join_keys)\n\u001b[0;32m--> 250\u001b[0m df_to_join \u001b[38;5;241m=\u001b[39m \u001b[43m_normalize_timestamp\u001b[49m\u001b[43m(\u001b[49m\n\u001b[1;32m    251\u001b[0m \u001b[43m    \u001b[49m\u001b[43mdf_to_join\u001b[49m\u001b[43m,\u001b[49m\u001b[43m \u001b[49m\u001b[43mtimestamp_field\u001b[49m\u001b[43m,\u001b[49m\u001b[43m \u001b[49m\u001b[43mcreated_timestamp_column\u001b[49m\n\u001b[1;32m    252\u001b[0m \u001b[43m\u001b[49m\u001b[43m)\u001b[49m\n\u001b[1;32m    254\u001b[0m df_to_join \u001b[38;5;241m=\u001b[39m _filter_ttl(\n\u001b[1;32m    255\u001b[0m     df_to_join,\n\u001b[1;32m    256\u001b[0m     feature_view,\n\u001b[1;32m    257\u001b[0m     entity_df_event_timestamp_col,\n\u001b[1;32m    258\u001b[0m     timestamp_field,\n\u001b[1;32m    259\u001b[0m )\n\u001b[1;32m    261\u001b[0m df_to_join \u001b[38;5;241m=\u001b[39m _drop_duplicates(\n\u001b[1;32m    262\u001b[0m     df_to_join,\n\u001b[1;32m    263\u001b[0m     all_join_keys,\n\u001b[0;32m   (...)\u001b[0m\n\u001b[1;32m    266\u001b[0m     entity_df_event_timestamp_col,\n\u001b[1;32m    267\u001b[0m )\n",
      "File \u001b[0;32m/usr/local/lib/python3.10/site-packages/feast/infra/offline_stores/file.py:603\u001b[0m, in \u001b[0;36m_normalize_timestamp\u001b[0;34m(df_to_join, timestamp_field, created_timestamp_column)\u001b[0m\n\u001b[1;32m    599\u001b[0m     created_timestamp_column_type \u001b[38;5;241m=\u001b[39m df_to_join_types[created_timestamp_column]\n\u001b[1;32m    601\u001b[0m \u001b[38;5;28;01mif\u001b[39;00m \u001b[38;5;129;01mnot\u001b[39;00m \u001b[38;5;28mhasattr\u001b[39m(timestamp_field_type, \u001b[38;5;124m\"\u001b[39m\u001b[38;5;124mtz\u001b[39m\u001b[38;5;124m\"\u001b[39m) \u001b[38;5;129;01mor\u001b[39;00m timestamp_field_type\u001b[38;5;241m.\u001b[39mtz \u001b[38;5;241m!=\u001b[39m pytz\u001b[38;5;241m.\u001b[39mUTC:\n\u001b[1;32m    602\u001b[0m     \u001b[38;5;66;03m# Make sure all timestamp fields are tz-aware. We default tz-naive fields to UTC\u001b[39;00m\n\u001b[0;32m--> 603\u001b[0m     df_to_join[timestamp_field] \u001b[38;5;241m=\u001b[39m \u001b[43mdf_to_join\u001b[49m\u001b[43m[\u001b[49m\u001b[43mtimestamp_field\u001b[49m\u001b[43m]\u001b[49m\u001b[38;5;241;43m.\u001b[39;49m\u001b[43mapply\u001b[49m\u001b[43m(\u001b[49m\n\u001b[1;32m    604\u001b[0m \u001b[43m        \u001b[49m\u001b[38;5;28;43;01mlambda\u001b[39;49;00m\u001b[43m \u001b[49m\u001b[43mx\u001b[49m\u001b[43m:\u001b[49m\u001b[43m \u001b[49m\u001b[43mx\u001b[49m\u001b[43m \u001b[49m\u001b[38;5;28;43;01mif\u001b[39;49;00m\u001b[43m \u001b[49m\u001b[43mx\u001b[49m\u001b[38;5;241;43m.\u001b[39;49m\u001b[43mtzinfo\u001b[49m\u001b[43m \u001b[49m\u001b[38;5;129;43;01mis\u001b[39;49;00m\u001b[43m \u001b[49m\u001b[38;5;129;43;01mnot\u001b[39;49;00m\u001b[43m \u001b[49m\u001b[38;5;28;43;01mNone\u001b[39;49;00m\u001b[43m \u001b[49m\u001b[38;5;28;43;01melse\u001b[39;49;00m\u001b[43m \u001b[49m\u001b[43mx\u001b[49m\u001b[38;5;241;43m.\u001b[39;49m\u001b[43mreplace\u001b[49m\u001b[43m(\u001b[49m\u001b[43mtzinfo\u001b[49m\u001b[38;5;241;43m=\u001b[39;49m\u001b[43mpytz\u001b[49m\u001b[38;5;241;43m.\u001b[39;49m\u001b[43mutc\u001b[49m\u001b[43m)\u001b[49m\u001b[43m,\u001b[49m\n\u001b[1;32m    605\u001b[0m \u001b[43m        \u001b[49m\u001b[43mmeta\u001b[49m\u001b[38;5;241;43m=\u001b[39;49m\u001b[43m(\u001b[49m\u001b[43mtimestamp_field\u001b[49m\u001b[43m,\u001b[49m\u001b[43m \u001b[49m\u001b[38;5;124;43m\"\u001b[39;49m\u001b[38;5;124;43mdatetime64[ns, UTC]\u001b[39;49m\u001b[38;5;124;43m\"\u001b[39;49m\u001b[43m)\u001b[49m\u001b[43m,\u001b[49m\n\u001b[1;32m    606\u001b[0m \u001b[43m    \u001b[49m\u001b[43m)\u001b[49m\n\u001b[1;32m    608\u001b[0m \u001b[38;5;28;01mif\u001b[39;00m created_timestamp_column \u001b[38;5;129;01mand\u001b[39;00m (\n\u001b[1;32m    609\u001b[0m     \u001b[38;5;129;01mnot\u001b[39;00m \u001b[38;5;28mhasattr\u001b[39m(created_timestamp_column_type, \u001b[38;5;124m\"\u001b[39m\u001b[38;5;124mtz\u001b[39m\u001b[38;5;124m\"\u001b[39m)\n\u001b[1;32m    610\u001b[0m     \u001b[38;5;129;01mor\u001b[39;00m created_timestamp_column_type\u001b[38;5;241m.\u001b[39mtz \u001b[38;5;241m!=\u001b[39m pytz\u001b[38;5;241m.\u001b[39mUTC\n\u001b[1;32m    611\u001b[0m ):\n\u001b[1;32m    612\u001b[0m     df_to_join[created_timestamp_column] \u001b[38;5;241m=\u001b[39m df_to_join[\n\u001b[1;32m    613\u001b[0m         created_timestamp_column\n\u001b[1;32m    614\u001b[0m     ]\u001b[38;5;241m.\u001b[39mapply(\n\u001b[1;32m    615\u001b[0m         \u001b[38;5;28;01mlambda\u001b[39;00m x: x \u001b[38;5;28;01mif\u001b[39;00m x\u001b[38;5;241m.\u001b[39mtzinfo \u001b[38;5;129;01mis\u001b[39;00m \u001b[38;5;129;01mnot\u001b[39;00m \u001b[38;5;28;01mNone\u001b[39;00m \u001b[38;5;28;01melse\u001b[39;00m x\u001b[38;5;241m.\u001b[39mreplace(tzinfo\u001b[38;5;241m=\u001b[39mpytz\u001b[38;5;241m.\u001b[39mutc),\n\u001b[1;32m    616\u001b[0m         meta\u001b[38;5;241m=\u001b[39m(timestamp_field, \u001b[38;5;124m\"\u001b[39m\u001b[38;5;124mdatetime64[ns, UTC]\u001b[39m\u001b[38;5;124m\"\u001b[39m),\n\u001b[1;32m    617\u001b[0m     )\n",
      "File \u001b[0;32m/usr/local/lib/python3.10/site-packages/dask/dataframe/core.py:5136\u001b[0m, in \u001b[0;36mDataFrame.apply\u001b[0;34m(self, func, axis, broadcast, raw, reduce, args, meta, result_type, **kwds)\u001b[0m\n\u001b[1;32m   5131\u001b[0m \u001b[38;5;28;01mif\u001b[39;00m axis \u001b[38;5;241m==\u001b[39m \u001b[38;5;241m0\u001b[39m:\n\u001b[1;32m   5132\u001b[0m     msg \u001b[38;5;241m=\u001b[39m (\n\u001b[1;32m   5133\u001b[0m         \u001b[38;5;124m\"\u001b[39m\u001b[38;5;124mdd.DataFrame.apply only supports axis=1\u001b[39m\u001b[38;5;130;01m\\n\u001b[39;00m\u001b[38;5;124m\"\u001b[39m\n\u001b[1;32m   5134\u001b[0m         \u001b[38;5;124m\"\u001b[39m\u001b[38;5;124m  Try: df.apply(func, axis=1)\u001b[39m\u001b[38;5;124m\"\u001b[39m\n\u001b[1;32m   5135\u001b[0m     )\n\u001b[0;32m-> 5136\u001b[0m     \u001b[38;5;28;01mraise\u001b[39;00m \u001b[38;5;167;01mNotImplementedError\u001b[39;00m(msg)\n\u001b[1;32m   5138\u001b[0m \u001b[38;5;28;01mif\u001b[39;00m meta \u001b[38;5;129;01mis\u001b[39;00m no_default:\n\u001b[1;32m   5139\u001b[0m     meta \u001b[38;5;241m=\u001b[39m _emulate(\n\u001b[1;32m   5140\u001b[0m         M\u001b[38;5;241m.\u001b[39mapply, \u001b[38;5;28mself\u001b[39m\u001b[38;5;241m.\u001b[39m_meta_nonempty, func, args\u001b[38;5;241m=\u001b[39margs, udf\u001b[38;5;241m=\u001b[39m\u001b[38;5;28;01mTrue\u001b[39;00m, \u001b[38;5;241m*\u001b[39m\u001b[38;5;241m*\u001b[39mkwds\n\u001b[1;32m   5141\u001b[0m     )\n",
      "\u001b[0;31mNotImplementedError\u001b[0m: dd.DataFrame.apply only supports axis=1\n  Try: df.apply(func, axis=1)"
     ]
    }
   ],
   "source": [
    "#features = [\"product_id\",\"seller_id\",\"query\",\"search_page\",\"position\",\"title\",\"concatenated_tags\",\"price\",\"weight\",\"express_delivery\",\"minimum_quantity\",\"view_counts\",\"order_counts\",\"category\"]\n",
    "entity_df = pd.DataFrame.from_dict(\n",
    "    {\n",
    "        \"product_id\": [11394449, 15534262],\n",
    "        \"event_timestamp\": [\n",
    "            datetime(2015,11,14,19,42,12),\n",
    "            datetime(2018,4,4,20,55,7),\n",
    "        ]\n",
    "    }\n",
    ")\n",
    "offline_features = store.get_historical_features(features=feature_service,entity_df=entity_df)\n",
    "offline_features.to_df()"
   ]
  },
  {
   "cell_type": "markdown",
   "id": "15d74567",
   "metadata": {},
   "source": [
    "### Retrieving Online Features via SDK"
   ]
  },
  {
   "cell_type": "code",
   "execution_count": null,
   "id": "13d2f3ee",
   "metadata": {},
   "outputs": [],
   "source": [
    "feature_service = store.get_feature_service(\"sample_products_activity\")\n",
    "online_features = store.get_online_features(features=feature_service)\n",
    "online_features.head()"
   ]
  },
  {
   "cell_type": "markdown",
   "id": "71fb87f3",
   "metadata": {},
   "source": []
  }
 ],
 "metadata": {
  "kernelspec": {
   "display_name": "Python 3 (ipykernel)",
   "language": "python",
   "name": "python3"
  },
  "language_info": {
   "codemirror_mode": {
    "name": "ipython",
    "version": 3
   },
   "file_extension": ".py",
   "mimetype": "text/x-python",
   "name": "python",
   "nbconvert_exporter": "python",
   "pygments_lexer": "ipython3",
   "version": "3.10.4"
  },
  "vscode": {
   "interpreter": {
    "hash": "767d51c1340bd893661ea55ea3124f6de3c7a262a8b4abca0554b478b1e2ff90"
   }
  }
 },
 "nbformat": 4,
 "nbformat_minor": 5
}
